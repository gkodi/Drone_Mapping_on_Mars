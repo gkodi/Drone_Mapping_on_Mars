{
 "cells": [
  {
   "cell_type": "markdown",
   "id": "57a3fb28",
   "metadata": {},
   "source": [
    "### 03. Calculate reflectance using DLS data\n",
    "#### Gayantha R. L. Kodikara, 2023/08/24, @ UWM Update 2024/03/08, 31/05/2024"
   ]
  },
  {
   "cell_type": "code",
   "execution_count": 1,
   "id": "e0a46466",
   "metadata": {},
   "outputs": [],
   "source": [
    "# Import libraries\n",
    "import numpy as np\n",
    "import math\n",
    "import matplotlib.pyplot as plt\n",
    "import matplotlib as mpl\n",
    "from mpl_toolkits.axes_grid1 import make_axes_locatable\n",
    "import exiftool\n",
    "import pysolar.solar as pysolar\n",
    "from datetime import datetime, timedelta\n",
    "import pytz"
   ]
  },
  {
   "cell_type": "code",
   "execution_count": 2,
   "id": "8ce9d3d4",
   "metadata": {},
   "outputs": [],
   "source": [
    "# Read raw image DN values\n",
    "# reads 16 bit tif - this will likely not work for 12 bit images\n",
    "imageR1  = 'IMG_0177_1.tif'\n",
    "imageR2  = 'IMG_0177_2.tif'\n",
    "imageR3  = 'IMG_0177_3.tif'\n",
    "imageR4  = 'IMG_0177_4.tif'\n",
    "imageR5  = 'IMG_0177_5.tif'\n",
    "image1  = plt.imread(imageR1)"
   ]
  },
  {
   "cell_type": "code",
   "execution_count": 3,
   "id": "a9f8c648",
   "metadata": {},
   "outputs": [],
   "source": [
    "from exiftool import ExifToolHelper\n",
    "with ExifToolHelper() as et:\n",
    "    pose = et.get_tags([imageR1], tags=['XMP:Yaw','XMP:Pitch','XMP:Roll','EXIF:DateTimeOriginal','EXIF:SubSecTime'])\n",
    "\n",
    "Yaw = float(pose[0].get('XMP:Yaw'))\n",
    "Pitch = float(pose[0].get('XMP:Pitch'))\n",
    "Roll = float(pose[0].get('XMP:Roll'))"
   ]
  },
  {
   "cell_type": "code",
   "execution_count": 4,
   "id": "8282888e",
   "metadata": {},
   "outputs": [
    {
     "name": "stdout",
     "output_type": "stream",
     "text": [
      "Yaw: -0.1126574000634523 Pitch: 0.050523468944472925 Roll: 0.07207045614120443\n"
     ]
    }
   ],
   "source": [
    "print('Yaw:',Yaw,'Pitch:',Pitch,'Roll:',Roll)"
   ]
  },
  {
   "cell_type": "code",
   "execution_count": 5,
   "id": "4acd617c",
   "metadata": {},
   "outputs": [
    {
     "data": {
      "text/plain": [
       "array([[ 0.99239291,  0.11574091,  0.04195647],\n",
       "       [-0.1122758 ,  0.99067255, -0.07721427],\n",
       "       [-0.05050198,  0.0719162 ,  0.99613132]])"
      ]
     },
     "execution_count": 5,
     "metadata": {},
     "output_type": "execute_result"
    }
   ],
   "source": [
    "# to get the sensor orientation in North-East-Down coordinates using Yaw, Pitch, and Roll of the camera.\n",
    "c1 = np.cos(-Yaw)\n",
    "s1 = np.sin(-Yaw)\n",
    "c2 = np.cos(-Pitch)\n",
    "s2 = np.sin(-Pitch)\n",
    "c3 = np.cos(-Roll)\n",
    "s3 = np.sin(-Roll)\n",
    "Ryaw = np.array([[c1, s1, 0], [-s1, c1, 0], [0, 0, 1]])\n",
    "Rpitch = np.array([[c2, 0, -s2], [0, 1, 0], [s2, 0, c2]])\n",
    "Rroll = np.array([[1, 0, 0], [0, c3, s3], [0, -s3, c3]])\n",
    "R = np.dot(Ryaw, np.dot(Rpitch, Rroll))\n",
    "#n = np.dot(R, ori)\n",
    "R"
   ]
  },
  {
   "cell_type": "code",
   "execution_count": 6,
   "id": "5028b381",
   "metadata": {},
   "outputs": [],
   "source": [
    "# Get the utc time zone and date and time of the image capture.\n",
    "from exiftool import ExifToolHelper\n",
    "with ExifToolHelper() as et:\n",
    "    time = et.get_tags([imageR1], tags=['EXIF:DateTimeOriginal','EXIF:SubSecTime'])\n",
    "\n",
    "DateTime = time[0].get('EXIF:DateTimeOriginal')\n",
    "SubTime = time[0].get('EXIF:SubSecTime')\n",
    "utc_time = datetime.strptime(DateTime, \"%Y:%m:%d %H:%M:%S\")\n",
    "# Find time zone\n",
    "negative = 1.0\n",
    "if SubTime < 0:\n",
    "    negative = -1.0\n",
    "    SubTime *= -1.0\n",
    "SubTime = float('0.{}'.format(int(SubTime)))\n",
    "SubTime *= negative\n",
    "ms = SubTime * 1e3\n",
    "utc_time += timedelta(milliseconds = ms)\n",
    "timezone = pytz.timezone('UTC')\n",
    "UTC_Time = timezone.localize(utc_time)"
   ]
  },
  {
   "cell_type": "code",
   "execution_count": 7,
   "id": "a227a781",
   "metadata": {},
   "outputs": [
    {
     "name": "stdout",
     "output_type": "stream",
     "text": [
      "UTC_Time\n"
     ]
    },
    {
     "data": {
      "text/plain": [
       "datetime.datetime(2023, 7, 12, 9, 57, 3, 959758, tzinfo=<UTC>)"
      ]
     },
     "execution_count": 7,
     "metadata": {},
     "output_type": "execute_result"
    }
   ],
   "source": [
    "print('UTC_Time')\n",
    "UTC_Time"
   ]
  },
  {
   "cell_type": "code",
   "execution_count": 8,
   "id": "dbef0a29",
   "metadata": {},
   "outputs": [
    {
     "name": "stdout",
     "output_type": "stream",
     "text": [
      "Lat: -2.3094972 Lon: 35.927391 Alt: 719.87\n"
     ]
    }
   ],
   "source": [
    "# Get the position of the image sensor\n",
    "from exiftool import ExifToolHelper\n",
    "with ExifToolHelper() as et:\n",
    "    posi = et.get_tags([imageR1], tags=['EXIF:GPSLatitude','EXIF:GPSLatitudeRef', 'EXIF:GPSLongitude', 'EXIF:GPSLongitudeRef', 'EXIF:GPSAltitude'])\n",
    "\n",
    "Lat = posi[0].get('EXIF:GPSLatitude')\n",
    "LatRef = posi[0].get('EXIF:GPSLatitudeRef')\n",
    "Lon = posi[0].get('EXIF:GPSLongitude')\n",
    "LonRef = posi[0].get('EXIF:GPSLongitudeRef')\n",
    "Alt = posi[0].get('EXIF:GPSAltitude')\n",
    "if LatRef == 'S':\n",
    "    Lat *= -1.0\n",
    "if LonRef == 'W':\n",
    "    Lon *= -1.0\n",
    "print('Lat:',Lat, 'Lon:', Lon, 'Alt:', Alt)"
   ]
  },
  {
   "cell_type": "code",
   "execution_count": 9,
   "id": "bcbccfb0",
   "metadata": {},
   "outputs": [
    {
     "data": {
      "text/plain": [
       "array([ 0,  0, -1])"
      ]
     },
     "execution_count": 9,
     "metadata": {},
     "output_type": "execute_result"
    }
   ],
   "source": [
    "# Define DLS sensor orientation vector relative to dls pose frame\n",
    "orientation = np.array([0,0,-1])\n",
    "orientation"
   ]
  },
  {
   "cell_type": "code",
   "execution_count": 10,
   "id": "547f4b25",
   "metadata": {},
   "outputs": [
    {
     "name": "stdout",
     "output_type": "stream",
     "text": [
      "altitude: 65.44218565327262 azimuth: 351.5094193360959\n",
      "SunAltitude: 1.1421816093510033 SunAzimuth: 6.134996719188294\n"
     ]
    }
   ],
   "source": [
    "# Calculate the sun altitude (elevation of the sun above the horizon), and sun azimuth (heading of the sun)\n",
    "altitude = 0\n",
    "azimuth = 0\n",
    "altitude = pysolar.get_altitude(Lat,Lon,UTC_Time)\n",
    "azimuth = pysolar.get_azimuth(Lat, Lon,UTC_Time)\n",
    "sunAltitude = np.radians(np.array(altitude))\n",
    "sunAzimuth = np.radians(np.array(azimuth))\n",
    "# wrap range 0 to 2pi\n",
    "sunAzimuth = sunAzimuth % (2 * np.pi)\n",
    "print('altitude:',altitude,'azimuth:',azimuth)\n",
    "print('SunAltitude:',sunAltitude, 'SunAzimuth:',sunAzimuth)"
   ]
  },
  {
   "cell_type": "code",
   "execution_count": 11,
   "id": "707e1af1",
   "metadata": {},
   "outputs": [
    {
     "data": {
      "text/plain": [
       "array([ 0.41105619, -0.06136367, -0.90954236])"
      ]
     },
     "execution_count": 11,
     "metadata": {},
     "output_type": "execute_result"
    }
   ],
   "source": [
    "# get the position of the sun in North-East-Down (NED) coordinate system\n",
    "elements = (np.cos(sunAzimuth) * np.cos(sunAltitude),\n",
    "            np.sin(sunAzimuth) * np.cos(sunAltitude),\n",
    "            -np.sin(sunAltitude),)\n",
    "nSun = np.array(elements).transpose()\n",
    "nSun"
   ]
  },
  {
   "cell_type": "code",
   "execution_count": 12,
   "id": "39f61d26",
   "metadata": {},
   "outputs": [
    {
     "data": {
      "text/plain": [
       "array([-0.04195647,  0.07721427, -0.99613132])"
      ]
     },
     "execution_count": 12,
     "metadata": {},
     "output_type": "execute_result"
    }
   ],
   "source": [
    "# to get the DLS orientation in North-East-Down coordinates using Yaw, Pitch, and Roll of the camera.\n",
    "c1 = np.cos(-Yaw)\n",
    "s1 = np.sin(-Yaw)\n",
    "c2 = np.cos(-Pitch)\n",
    "s2 = np.sin(-Pitch)\n",
    "c3 = np.cos(-Roll)\n",
    "s3 = np.sin(-Roll)\n",
    "Ryaw = np.array([[c1, s1, 0], [-s1, c1, 0], [0, 0, 1]])\n",
    "Rpitch = np.array([[c2, 0, -s2], [0, 1, 0], [s2, 0, c2]])\n",
    "Rroll = np.array([[1, 0, 0], [0, c3, s3], [0, -s3, c3]])\n",
    "R = np.dot(Ryaw, np.dot(Rpitch, Rroll))\n",
    "n = np.dot(R, orientation)\n",
    "nSensor = np.array(n)\n",
    "nSensor"
   ]
  },
  {
   "cell_type": "code",
   "execution_count": 13,
   "id": "1b599fd2",
   "metadata": {},
   "outputs": [
    {
     "data": {
      "text/plain": [
       "0.4863622950344405"
      ]
     },
     "execution_count": 13,
     "metadata": {},
     "output_type": "execute_result"
    }
   ],
   "source": [
    "# Calculate the angle between DLS vector and Sun vector (sun-sensor angle)\n",
    "angle = np.arccos(np.dot(nSun, nSensor))\n",
    "angle"
   ]
  },
  {
   "cell_type": "code",
   "execution_count": 14,
   "id": "62ebd999",
   "metadata": {},
   "outputs": [
    {
     "data": {
      "text/plain": [
       "0.29637198915678953"
      ]
     },
     "execution_count": 14,
     "metadata": {},
     "output_type": "execute_result"
    }
   ],
   "source": [
    "# fresnel correction: multilayer transmission\n",
    "polarization = [0.5, 0.5]\n",
    "n = [1.000277,1.6,1.38]\n",
    "angle_eff = np.copy(angle)\n",
    "for i in range(0,len(n)-1):\n",
    "    n1 = n[i]\n",
    "    n2 = n[i+1]\n",
    "    angle_eff = np.arcsin(np.sin(angle_eff)/n1)\n",
    "angle_eff"
   ]
  },
  {
   "cell_type": "code",
   "execution_count": 15,
   "id": "229f121d",
   "metadata": {},
   "outputs": [
    {
     "data": {
      "text/plain": [
       "0.9744450292563683"
      ]
     },
     "execution_count": 15,
     "metadata": {},
     "output_type": "execute_result"
    }
   ],
   "source": [
    "# Since the diffuser reflects more light at shallow angles than at steep angles,\n",
    "# we compute a correction for this\n",
    "## freshnel correction: fresnel transmission, compute fresnel transmission between \n",
    "## meadia with n1 and n2 refractive indices\n",
    "## refractive index n1 to n2\n",
    "    # teflon e.g. n2=1.38\n",
    "    # polycarbonate n2=1.6 \n",
    "    # polarization=[.5,.5] - unpolarized light\n",
    "    # polarization=[1.,0] - s-polarized light - perpendicular to plane of incidence\n",
    "    # polarization=[0,1.] - p-polarized light - parallel to plane of incidence\n",
    "n1 = 1.000277\n",
    "n2 = 1.38\n",
    "polarization = [0.5,0.5]\n",
    "f1 = np.cos(angle_eff)\n",
    "f2 = np.sqrt(1-(n1/n2*np.sin(angle_eff))**2)\n",
    "Rs = ((n1*f1 - n2*f2)/(n1*f1 + n2*f2))**2\n",
    "Rp = ((n1*f2 - n2*f1)/(n1*f2 + n2*f1))**2\n",
    "T = 1.0 - polarization[0]*Rs - polarization[1]*Rp\n",
    "if T > 1:\n",
    "    T = 0.0\n",
    "if T < 0:\n",
    "    T = 0.0\n",
    "if np.isnan(T):\n",
    "    T = 0.0\n",
    "fresnel_correction =T\n",
    "np.save('Fresnel_correction.npy', fresnel_correction)\n",
    "fresnel_correction"
   ]
  },
  {
   "cell_type": "code",
   "execution_count": 16,
   "id": "a4679abd",
   "metadata": {},
   "outputs": [
    {
     "name": "stdout",
     "output_type": "stream",
     "text": [
      "B1 Central Wavelength: 475 , B1 Spectral Irradiance: 1.2306348085403442\n",
      "B2 Central Wavelength: 560 , B2 Spectral Irradiance: 1.1394789218902588\n",
      "B3 Central Wavelength: 668 , B3 Spectral Irradiance: 1.0169126987457275\n",
      "B4 Central Wavelength: 840 , B4 Spectral Irradiance: 0.52389013767242432\n",
      "B5 Central Wavelength: 717 , B5 Spectral Irradiance: 0.83006113767623901\n"
     ]
    }
   ],
   "source": [
    "# Get the position of the image sensor\n",
    "\n",
    "##### Band 1 #####\n",
    "from exiftool import ExifToolHelper\n",
    "with ExifToolHelper() as et:\n",
    "    info1 = et.get_tags([imageR1], tags=['XMP:CentralWavelength','XMP:SpectralIrradiance'])\n",
    "    info2 = et.get_tags([imageR2], tags=['XMP:CentralWavelength','XMP:SpectralIrradiance'])\n",
    "    info3 = et.get_tags([imageR3], tags=['XMP:CentralWavelength','XMP:SpectralIrradiance'])\n",
    "    info4 = et.get_tags([imageR4], tags=['XMP:CentralWavelength','XMP:SpectralIrradiance'])\n",
    "    info5 = et.get_tags([imageR5], tags=['XMP:CentralWavelength','XMP:SpectralIrradiance'])\n",
    "\n",
    "CenWL1 = info1[0].get('XMP:CentralWavelength')\n",
    "SpeIrr1 = info1[0].get('XMP:SpectralIrradiance')\n",
    "\n",
    "CenWL2 = info2[0].get('XMP:CentralWavelength')\n",
    "SpeIrr2 = info2[0].get('XMP:SpectralIrradiance')\n",
    "\n",
    "CenWL3 = info3[0].get('XMP:CentralWavelength')\n",
    "SpeIrr3 = info3[0].get('XMP:SpectralIrradiance')\n",
    "\n",
    "CenWL4 = info4[0].get('XMP:CentralWavelength')\n",
    "SpeIrr4 = info4[0].get('XMP:SpectralIrradiance')\n",
    "\n",
    "CenWL5 = info5[0].get('XMP:CentralWavelength')\n",
    "SpeIrr5 = info5[0].get('XMP:SpectralIrradiance')\n",
    "\n",
    "print('B1 Central Wavelength:',CenWL1, ', B1 Spectral Irradiance:', SpeIrr1)\n",
    "print('B2 Central Wavelength:',CenWL2, ', B2 Spectral Irradiance:', SpeIrr2)\n",
    "print('B3 Central Wavelength:',CenWL3, ', B3 Spectral Irradiance:', SpeIrr3)\n",
    "print('B4 Central Wavelength:',CenWL4, ', B4 Spectral Irradiance:', SpeIrr4)\n",
    "print('B5 Central Wavelength:',CenWL5, ', B5 Spectral Irradiance:', SpeIrr5)"
   ]
  },
  {
   "cell_type": "code",
   "execution_count": 17,
   "id": "b21a1106",
   "metadata": {},
   "outputs": [],
   "source": [
    "# Now we can correct the raw DLS readings and compute the irradiance on level ground\n",
    "# For Band 1\n",
    "dls_irradiances = []\n",
    "center_wavelengths = []\n",
    "dir_dif_ratio = 6.0\n",
    "percent_diffuse = 1.0/dir_dif_ratio\n",
    "\n",
    "#### Band 1 ####\n",
    "# measured Irradiance / fresnelCorrection\n",
    "sensor_irradiance1 = float(SpeIrr1) / fresnel_correction\n",
    "untilted_direct_irr1 = sensor_irradiance1 / (percent_diffuse + np.cos(angle_eff))\n",
    "\n",
    "# compute irradiance on the ground using the solar altitude angle\n",
    "dls_irr1 = untilted_direct_irr1 * (percent_diffuse + np.sin(sunAltitude))\n",
    "dls_irradiances.append(dls_irr1)\n",
    "center_wavelengths.append(CenWL1)\n",
    "\n",
    "#### Band 2 ####\n",
    "# measured Irradiance / fresnelCorrection\n",
    "sensor_irradiance2 = float(SpeIrr2) / fresnel_correction\n",
    "untilted_direct_irr2 = sensor_irradiance2 / (percent_diffuse + np.cos(angle_eff))\n",
    "\n",
    "# compute irradiance on the ground using the solar altitude angle\n",
    "dls_irr2 = untilted_direct_irr2 * (percent_diffuse + np.sin(sunAltitude))\n",
    "dls_irradiances.append(dls_irr2)\n",
    "center_wavelengths.append(CenWL2)\n",
    "\n",
    "#### Band 3 ####\n",
    "# measured Irradiance / fresnelCorrection\n",
    "sensor_irradiance3 = float(SpeIrr3) / fresnel_correction\n",
    "untilted_direct_irr3 = sensor_irradiance3 / (percent_diffuse + np.cos(angle_eff))\n",
    "\n",
    "# compute irradiance on the ground using the solar altitude angle\n",
    "dls_irr3 = untilted_direct_irr3 * (percent_diffuse + np.sin(sunAltitude))\n",
    "dls_irradiances.append(dls_irr3)\n",
    "center_wavelengths.append(CenWL3)\n",
    "\n",
    "#### Band 4 ####\n",
    "# measured Irradiance / fresnelCorrection\n",
    "sensor_irradiance4 = float(SpeIrr4) / fresnel_correction\n",
    "untilted_direct_irr4 = sensor_irradiance4 / (percent_diffuse + np.cos(angle_eff))\n",
    "\n",
    "# compute irradiance on the ground using the solar altitude angle\n",
    "dls_irr4 = untilted_direct_irr4 * (percent_diffuse + np.sin(sunAltitude))\n",
    "dls_irradiances.append(dls_irr4)\n",
    "center_wavelengths.append(CenWL4)\n",
    "\n",
    "#### Band 5 ####\n",
    "# measured Irradiance / fresnelCorrection\n",
    "sensor_irradiance5 = float(SpeIrr5) / fresnel_correction\n",
    "untilted_direct_irr5 = sensor_irradiance5 / (percent_diffuse + np.cos(angle_eff))\n",
    "\n",
    "# compute irradiance on the ground using the solar altitude angle\n",
    "dls_irr5 = untilted_direct_irr5 * (percent_diffuse + np.sin(sunAltitude))\n",
    "dls_irradiances.append(dls_irr5)\n",
    "center_wavelengths.append(CenWL5)"
   ]
  },
  {
   "cell_type": "code",
   "execution_count": 18,
   "id": "ac3f94c5",
   "metadata": {},
   "outputs": [
    {
     "data": {
      "text/plain": [
       "[1.2102136169417286,\n",
       " 1.1205703738587716,\n",
       " 1.0000380183644832,\n",
       " 0.5151966887273849,\n",
       " 0.816287077806149]"
      ]
     },
     "execution_count": 18,
     "metadata": {},
     "output_type": "execute_result"
    }
   ],
   "source": [
    "dls_irradiances"
   ]
  },
  {
   "cell_type": "code",
   "execution_count": 19,
   "id": "55fa5d40",
   "metadata": {},
   "outputs": [
    {
     "data": {
      "text/plain": [
       "[475, 560, 668, 840, 717]"
      ]
     },
     "execution_count": 19,
     "metadata": {},
     "output_type": "execute_result"
    }
   ],
   "source": [
    "center_wavelengths"
   ]
  },
  {
   "cell_type": "code",
   "execution_count": 20,
   "id": "575e9012",
   "metadata": {},
   "outputs": [
    {
     "data": {
      "text/plain": [
       "array([[4.75000000e+02, 5.60000000e+02, 6.68000000e+02, 8.40000000e+02,\n",
       "        7.17000000e+02],\n",
       "       [1.21021362e+00, 1.12057037e+00, 1.00003802e+00, 5.15196689e-01,\n",
       "        8.16287078e-01]])"
      ]
     },
     "execution_count": 20,
     "metadata": {},
     "output_type": "execute_result"
    }
   ],
   "source": [
    "file = np.vstack((center_wavelengths, dls_irradiances))\n",
    "file"
   ]
  },
  {
   "cell_type": "code",
   "execution_count": 21,
   "id": "46fe2169",
   "metadata": {},
   "outputs": [
    {
     "data": {
      "image/png": "[encoded data removed]",
      "text/plain": [
       "<Figure size 600x400 with 1 Axes>"
      ]
     },
     "metadata": {},
     "output_type": "display_data"
    }
   ],
   "source": [
    "plt.figure(figsize=(6, 4))\n",
    "plt.scatter(file[0],file[1])\n",
    "plt.xlabel('Wavelength (nm)')\n",
    "plt.ylabel('Irradiance ($W/m^2/nm$)')\n",
    "plt.savefig('DLS_Irradiance.png', dpi= 300)\n",
    "plt.show()"
   ]
  },
  {
   "cell_type": "code",
   "execution_count": 22,
   "id": "dad431cd",
   "metadata": {},
   "outputs": [],
   "source": [
    "# Save the Reference Panel Field Spectral data\n",
    "np.save('DLS_Irradiances.npy', dls_irradiances)"
   ]
  },
  {
   "cell_type": "markdown",
   "id": "35367559",
   "metadata": {},
   "source": [
    "move to next chapter ;-)"
   ]
  },
  {
   "cell_type": "code",
   "execution_count": null,
   "id": "75c30657",
   "metadata": {},
   "outputs": [],
   "source": []
  }
 ],
 "metadata": {
  "kernelspec": {
   "display_name": "Python 3 (ipykernel)",
   "language": "python",
   "name": "python3"
  },
  "language_info": {
   "codemirror_mode": {
    "name": "ipython",
    "version": 3
   },
   "file_extension": ".py",
   "mimetype": "text/x-python",
   "name": "python",
   "nbconvert_exporter": "python",
   "pygments_lexer": "ipython3",
   "version": "3.9.18"
  }
 },
 "nbformat": 4,
 "nbformat_minor": 5
}
